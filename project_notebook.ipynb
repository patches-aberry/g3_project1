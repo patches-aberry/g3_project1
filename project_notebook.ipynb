{
 "cells": [
  {
   "cell_type": "code",
   "execution_count": 1,
   "id": "bf853faf",
   "metadata": {},
   "outputs": [],
   "source": [
    "#Set Up Dependancies\n",
    "import pandas as pd\n",
    "import requests\n",
    "from config import gnews_api_key,nyt_api_key\n",
    "import time"
   ]
  },
  {
   "cell_type": "code",
   "execution_count": 2,
   "id": "0c720295",
   "metadata": {},
   "outputs": [],
   "source": [
    "base_url = \"https://gnews.io/api/v4/search\"\n",
    "\n",
    "\n",
    "#Defining some of our search terms: \n",
    "query = \"Climate OR Environment\"\n",
    "query = query.replace(\" \",\"%20\")\n",
    "\n",
    "year = \"2022\"\n",
    "t_from = f\"{year}-01-01T00:00:01Z\"\n",
    "t_to = f\"{year}-12-31T23:59:59Z\"\n",
    "results = \"1\"\n",
    "\n",
    "#response = requests.get(f\"{base_url}?q={query[1]}&max={results}&from={t_from}&to={t_to}&apikey={gnews_api_key}\")\n",
    "#response=response.json()\n",
    "#path = f\"{base_url}?q={query[1]}&max={results}&from={t_from}&to={t_to}&apikey={gnews_api_key}\"\n",
    "#path"
   ]
  },
  {
   "cell_type": "code",
   "execution_count": 32,
   "id": "27a08d5b",
   "metadata": {},
   "outputs": [
    {
     "data": {
      "text/plain": [
       "669806"
      ]
     },
     "execution_count": 32,
     "metadata": {},
     "output_type": "execute_result"
    }
   ],
   "source": [
    "response['totalArticles']"
   ]
  },
  {
   "cell_type": "code",
   "execution_count": 6,
   "id": "9b0f020c",
   "metadata": {},
   "outputs": [],
   "source": [
    "years = [*range(2013, 2023+1)]\n",
    "#clim_art_list = []\n",
    "#envi_art_list = []"
   ]
  },
  {
   "cell_type": "code",
   "execution_count": 4,
   "id": "53470bf6",
   "metadata": {},
   "outputs": [],
   "source": [
    "for y in range(2013, 2023+1):\n",
    "    #create time from (tf) and time to (tt) values\n",
    "    tf = f\"{y}-01-01T00:00:01Z\"\n",
    "    tt = f\"{y}-12-31T23:59:59Z\"\n",
    "    #get response from first query\n",
    "    response = requests.get(f\"{base_url}?q={query}&max={results}&from={tf}&to={tt}&apikey={gnews_api_key}\").json()\n",
    "    #add to climate change list of articles\n",
    "    clim_art_list.append(response['totalArticles'])\n",
    "    #get response from second query\n",
    "    #response = requests.get(f\"{base_url}?q={query[1]}&max={results}&from={tf}&to={tt}&apikey={gnews_api_key}\").json()\n",
    "    #add to environment list of articles\n",
    "    #envi_arts.append(response['totalArticles'])\n",
    "    time.sleep(5)\n",
    "        "
   ]
  },
  {
   "cell_type": "code",
   "execution_count": 5,
   "id": "5688e233",
   "metadata": {},
   "outputs": [
    {
     "data": {
      "text/plain": [
       "[2, 1, 6, 2, 8, 19, 42, 8464, 34546, 29868, 5224]"
      ]
     },
     "execution_count": 5,
     "metadata": {},
     "output_type": "execute_result"
    }
   ],
   "source": [
    "clim_art_list"
   ]
  },
  {
   "cell_type": "code",
   "execution_count": 10,
   "id": "b9f6c745",
   "metadata": {},
   "outputs": [],
   "source": [
    "df = pd.DataFrame({\n",
    "    \"Year\":years,\n",
    "    \"#Articles\":clim_art_list})\n",
    "df.to_csv('Resources/env_articles_by_year.csv',index=False)"
   ]
  },
  {
   "cell_type": "code",
   "execution_count": 9,
   "id": "958e028c",
   "metadata": {},
   "outputs": [
    {
     "data": {
      "text/plain": [
       "0"
      ]
     },
     "execution_count": 9,
     "metadata": {},
     "output_type": "execute_result"
    }
   ],
   "source": [
    "\n",
    "base_url = \"https://api.nytimes.com/svc/search/v2/articlesearch.json\"\n",
    "\n",
    "params = {\n",
    "    'begin_date':'20230101',\n",
    "    'end_date':'20132231',\n",
    "    'q':query,\n",
    "    'api-key':'JLNlZHr6nGTLEEn8vkiuBQX07ZNc7I4G'\n",
    "}\n",
    "response = requests.get(base_url, params=params)\n",
    "response = response.json()\n",
    "response['response']['meta']['hits']\n"
   ]
  },
  {
   "cell_type": "code",
   "execution_count": 17,
   "id": "7eb7c225",
   "metadata": {},
   "outputs": [],
   "source": [
    "nyt_ar_list = []"
   ]
  },
  {
   "cell_type": "code",
   "execution_count": 18,
   "id": "8e056635",
   "metadata": {},
   "outputs": [
    {
     "data": {
      "text/plain": [
       "[0, 0, 0, 0, 0, 0, 0, 0, 0, 0, 0]"
      ]
     },
     "execution_count": 18,
     "metadata": {},
     "output_type": "execute_result"
    }
   ],
   "source": [
    "for y in range(2013, 2023+1):\n",
    "    #create time from (tf) and time to (tt) values\n",
    "    tf = f\"{y}0101\"\n",
    "    tt = f\"{y}1231\"\n",
    "    params = {\n",
    "    'begin_date': tf,\n",
    "    'end_date': tt,\n",
    "    'q':'Environment OR climate',\n",
    "    'api-key':'JLNlZHr6nGTLEEn8vkiuBQX07ZNc7I4G'\n",
    "    }\n",
    "    #get response from first query\n",
    "    response = requests.get(base_url, params=params).json()\n",
    "    #add to climate change list of articles\n",
    "    nyt_ar_list.append(response['response']['meta']['hits'])\n",
    "    time.sleep(6)\n",
    "nyt_arts_list"
   ]
  },
  {
   "cell_type": "code",
   "execution_count": 19,
   "id": "e5ad8d14",
   "metadata": {},
   "outputs": [
    {
     "data": {
      "text/plain": [
       "{'status': 'OK',\n",
       " 'copyright': 'Copyright (c) 2023 The New York Times Company. All Rights Reserved.',\n",
       " 'response': {'docs': [], 'meta': {'hits': 0, 'offset': 0, 'time': 10}}}"
      ]
     },
     "execution_count": 19,
     "metadata": {},
     "output_type": "execute_result"
    }
   ],
   "source": [
    "response"
   ]
  },
  {
   "cell_type": "code",
   "execution_count": null,
   "id": "a31ab902",
   "metadata": {},
   "outputs": [],
   "source": [
    "df = pd.DataFrame({\n",
    "    \"Year\":years,\n",
    "    \"#Articles\":nyt_arts_list})\n",
    "df.to_csv('Resources/nyt_env_articles_by_year.csv',index=False)"
   ]
  }
 ],
 "metadata": {
  "kernelspec": {
   "display_name": "Python 3 (ipykernel)",
   "language": "python",
   "name": "python3"
  },
  "language_info": {
   "codemirror_mode": {
    "name": "ipython",
    "version": 3
   },
   "file_extension": ".py",
   "mimetype": "text/x-python",
   "name": "python",
   "nbconvert_exporter": "python",
   "pygments_lexer": "ipython3",
   "version": "3.9.13"
  }
 },
 "nbformat": 4,
 "nbformat_minor": 5
}
