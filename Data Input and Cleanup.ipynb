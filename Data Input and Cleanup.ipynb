{
 "cells": [
  {
   "cell_type": "code",
   "execution_count": 33,
   "id": "9ec2e4f1",
   "metadata": {},
   "outputs": [],
   "source": [
    "#Set Up Dependancies\n",
    "import pandas as pd\n",
    "import requests\n",
    "import time\n",
    "from config import nyt_api_key\n",
    "from scipy.stats import linregress"
   ]
  },
  {
   "cell_type": "markdown",
   "id": "b2360614",
   "metadata": {},
   "source": [
    "# Grabbing Numbers of Environmental Articles"
   ]
  },
  {
   "cell_type": "code",
   "execution_count": 2,
   "id": "f75eda7f",
   "metadata": {},
   "outputs": [
    {
     "data": {
      "text/plain": [
       "[297,\n",
       " 322,\n",
       " 261,\n",
       " 232,\n",
       " 329,\n",
       " 684,\n",
       " 1121,\n",
       " 1121,\n",
       " 1256,\n",
       " 724,\n",
       " 636,\n",
       " 509,\n",
       " 472,\n",
       " 530,\n",
       " 641,\n",
       " 588,\n",
       " 1049,\n",
       " 1254,\n",
       " 1510,\n",
       " 1379,\n",
       " 1590]"
      ]
     },
     "execution_count": 2,
     "metadata": {},
     "output_type": "execute_result"
    }
   ],
   "source": [
    "#Set url for api call\n",
    "base_url = \"https://api.nytimes.com/svc/search/v2/articlesearch.json\"\n",
    "\n",
    "#define initial parameters\n",
    "params = {\n",
    "    'api-key': nyt_api_key,\n",
    "    'q':'Environment OR climate'\n",
    "}\n",
    "\n",
    "#define empty array for article counts\n",
    "nyt_arts_list = []\n",
    "\n",
    "for y in range(2001, 2022):\n",
    "    \n",
    "    #add to our dictionary of params\n",
    "    params['begin_date'] = f\"{y}0101\"\n",
    "    params['end_date'] = f\"{y}1231\"\n",
    "    \n",
    "    #get response from first query\n",
    "    response = requests.get(base_url, params=params).json()\n",
    "    \n",
    "    #add to climate change list of articles\n",
    "    nyt_arts_list.append(response['response']['meta']['hits'])\n",
    "    \n",
    "    #add a sleep between iterations to avoid getting banned, whoops\n",
    "    time.sleep(15)\n",
    "\n",
    "#printing out list of articles for reference\n",
    "nyt_arts_list"
   ]
  },
  {
   "cell_type": "code",
   "execution_count": 60,
   "id": "83845c8d",
   "metadata": {},
   "outputs": [],
   "source": [
    "#Create Dataframe \n",
    "nyt_df = pd.DataFrame({\n",
    "    \"Years\":range(2001,2022),\n",
    "    \"#Articles\":nyt_arts_list\n",
    "})"
   ]
  },
  {
   "cell_type": "code",
   "execution_count": 7,
   "id": "c53eab5f",
   "metadata": {},
   "outputs": [],
   "source": [
    "#output to CSV for visualization\n",
    "nyt_df.to_csv(\"Resources/nyt_arts_list_by_year.csv\")"
   ]
  },
  {
   "cell_type": "markdown",
   "id": "11f1588d",
   "metadata": {},
   "source": [
    "# Getting Energy Production Data"
   ]
  },
  {
   "cell_type": "code",
   "execution_count": 8,
   "id": "e91a4351",
   "metadata": {},
   "outputs": [],
   "source": [
    "#contributed by Jennifer Vincent\n",
    "energy_data = \"Resources/EnergyJV.csv\"\n",
    "energy_data_df = pd.read_csv(energy_data)\n",
    "energy_data_df = energy_data_df.drop(columns = ['units','source key'])\n",
    "# energy_data_df"
   ]
  },
  {
   "cell_type": "code",
   "execution_count": 9,
   "id": "7117103b",
   "metadata": {},
   "outputs": [],
   "source": [
    "#As the data is organized horizonally, we'll transpose the data so that the rows become columns.\n",
    "\n",
    "#transpose function\n",
    "energy_data_t = energy_data_df.transpose()\n",
    "#move top row as column heads\n",
    "energy_data_t.set_axis(energy_data_t.iloc[0], axis=1, inplace=True)\n",
    "#Remove top row\n",
    "energy_data_list = energy_data_t[1:]\n",
    "#remove unnecessary columns\n",
    "energy_data_list = energy_data_list['United States : all fuels (utility-scale)']\n"
   ]
  },
  {
   "cell_type": "code",
   "execution_count": 10,
   "id": "6e964684",
   "metadata": {},
   "outputs": [],
   "source": [
    "#Grabbing energy by month for visualizing later\n",
    "energy_by_month = energy_data_list"
   ]
  },
  {
   "cell_type": "code",
   "execution_count": 11,
   "id": "e0b9aa75",
   "metadata": {},
   "outputs": [],
   "source": [
    "#Calulating Total Emission by summing 12 months of the year. \n",
    "us_eo_by = []\n",
    "temp_sum = 0\n",
    "m_count = 0\n",
    "y_count = 0\n",
    "for m in range(len(energy_data_list)):\n",
    "    temp_sum = temp_sum + int(energy_data_list[m])\n",
    "    m_count = m_count + 1  \n",
    "    if m_count == 12:\n",
    "         \n",
    "        us_eo_by.append(temp_sum)\n",
    "        m_count = 0\n",
    "        temp_sum = 0\n",
    "        y_count = y_count + 1\n",
    "        \n",
    "        if y_count == 22:\n",
    "            break"
   ]
  },
  {
   "cell_type": "code",
   "execution_count": 36,
   "id": "79cebea5",
   "metadata": {},
   "outputs": [],
   "source": [
    "#Create DF for easier graphing\n",
    "us_eo_by_df = pd.DataFrame({\n",
    "    \"Years\": range(2001,2022),\n",
    "    \"Energy Production (thousand megawatthours)\": us_eo_by\n",
    "})"
   ]
  },
  {
   "cell_type": "code",
   "execution_count": 37,
   "id": "35e6a600",
   "metadata": {},
   "outputs": [],
   "source": [
    "#Sending to CSV for visualization\n",
    "us_eo_by_df.to_csv(\"Resources/us_total_energy_out.csv\")"
   ]
  },
  {
   "cell_type": "markdown",
   "id": "11b4d379",
   "metadata": {},
   "source": [
    "# CO2 production Data"
   ]
  },
  {
   "cell_type": "code",
   "execution_count": 16,
   "id": "2ba90bdb",
   "metadata": {},
   "outputs": [],
   "source": [
    "#Contributed by Jennifer Vincent\n",
    "#pulling in CO2 data\n",
    "co2_data = \"Resources/CO2_emission_by_countries.csv\"\n",
    "co2_data_df = pd.read_csv(co2_data, encoding=\"ISO-8859-1\")"
   ]
  },
  {
   "cell_type": "code",
   "execution_count": 22,
   "id": "5fc006ed",
   "metadata": {},
   "outputs": [],
   "source": [
    "#Using Loc to specify US data, and years after 2001\n",
    "us_co2_df = co2_data_df.loc[(co2_data_df['Code'] == 'US') & (co2_data_df['Year'] >= 2001 )]\n",
    "#removing unnecessary columns\n",
    "us_co2_df = us_co2_df[['Year','CO2 emission (Tons)']]"
   ]
  },
  {
   "cell_type": "code",
   "execution_count": 25,
   "id": "e4116451",
   "metadata": {},
   "outputs": [],
   "source": [
    "#Sending to CSV for visualization\n",
    "us_co2_df.to_csv(\"Resources/us_co2_vs_year.csv\", index=False)"
   ]
  },
  {
   "cell_type": "markdown",
   "id": "63063794",
   "metadata": {},
   "source": [
    "# Linear Regression Data"
   ]
  },
  {
   "cell_type": "code",
   "execution_count": 59,
   "id": "d6fc56c3",
   "metadata": {},
   "outputs": [],
   "source": [
    "#Read in CSVs to dataframes\n",
    "path = \"Resources/us_total_energy_out.csv\"\n",
    "us_energy_df = pd.read_csv(path, index_col=0)\n",
    "\n",
    "path = \"Resources/us_co2_vs_year.csv\"\n",
    "us_co2_df = pd.read_csv(path)\n",
    "\n",
    "path = \"Resources/meant_vs_year.csv\"\n",
    "us_t_df = pd.read_csv(path)\n"
   ]
  },
  {
   "cell_type": "code",
   "execution_count": 46,
   "id": "ba681fb7",
   "metadata": {},
   "outputs": [],
   "source": [
    "#setting up lin regress values and equation for Energy Output\n",
    "x = us_energy_df['Years']\n",
    "y = us_energy_df['Energy Production (thousand megawatthours)']\n",
    "(slope,intercept,rvalue,pvalue,stderr) = linregress(x,y)"
   ]
  },
  {
   "cell_type": "code",
   "execution_count": 54,
   "id": "aa744c5c",
   "metadata": {},
   "outputs": [
    {
     "name": "stdout",
     "output_type": "stream",
     "text": [
      "In 2033, the United States is on track to create 492078.2 billion megawatthours of energy.\n",
      "In 2053, the United States is on track to create 604769.92 billion megawatthours of energy.\n",
      "In 2123, the United States is on track to create 999190.98 billion megawatthours of energy.\n"
     ]
    }
   ],
   "source": [
    "#Predictions for Energy Output by the US\n",
    "pred_2033 = (slope * 2033 + intercept)/1000000\n",
    "pred_2053 = (slope * 2053 + intercept)/1000000\n",
    "pred_2123 = (slope * 2123 + intercept)/1000000\n",
    "print(f\"In 2033, the United States is on track to create {round(pred_2033 ,2)} billion megawatthours of energy.\")\n",
    "print(f\"In 2053, the United States is on track to create {round(pred_2053, 2)} billion megawatthours of energy.\")\n",
    "print(f\"In 2123, the United States is on track to create {round(pred_2123, 2)} billion megawatthours of energy.\")"
   ]
  },
  {
   "cell_type": "code",
   "execution_count": 49,
   "id": "5dfe714c",
   "metadata": {},
   "outputs": [],
   "source": [
    "#setting up lin regress values and equation for CO2 Output\n",
    "x = us_co2_df['Year']\n",
    "y = us_co2_df['CO2 emission (Tons)']\n",
    "(slope,intercept,rvalue,pvalue,stderr) = linregress(x,y)"
   ]
  },
  {
   "cell_type": "code",
   "execution_count": 53,
   "id": "2a531842",
   "metadata": {},
   "outputs": [
    {
     "name": "stdout",
     "output_type": "stream",
     "text": [
      "In 2033, the United States is on track to emit 492.1 billion tons of C02.\n",
      "In 2053, the United States is on track to emit 604.8 billion tons of C02.\n",
      "In 2123, the United States is on track to emit 999.2 billion tons of C02.\n"
     ]
    }
   ],
   "source": [
    "#Predictions for CO2 output by the US\n",
    "pred_2033 = (slope * 2033 + intercept)/1000000000\n",
    "pred_2053 = (slope * 2053 + intercept)/1000000000\n",
    "pred_2123 = (slope * 2123 + intercept)/1000000000\n",
    "print(f\"In 2033, the United States is on track to emit {round(pred_2033 ,1)} billion tons of C02.\")\n",
    "print(f\"In 2053, the United States is on track to emit {round(pred_2053, 1)} billion tons of C02.\")\n",
    "print(f\"In 2123, the United States is on track to emit {round(pred_2123, 1)} billion tons of C02.\")"
   ]
  },
  {
   "cell_type": "code",
   "execution_count": 57,
   "id": "1de0a27a",
   "metadata": {},
   "outputs": [],
   "source": [
    "#setting up lin regress values and equation for CO2 Output\n",
    "x = us_t_df['Year']\n",
    "y = us_t_df['Temp (F)']\n",
    "(slope,intercept,rvalue,pvalue,stderr) = linregress(x,y)"
   ]
  },
  {
   "cell_type": "code",
   "execution_count": 58,
   "id": "1ff4ef1b",
   "metadata": {},
   "outputs": [
    {
     "name": "stdout",
     "output_type": "stream",
     "text": [
      "In 2033, the United States is on track to have an average temperate of 58.0 F.\n",
      "In 2053, the United States is on track to have an average temperate of 61.4 F.\n",
      "In 2123, the United States is on track to have an average temperate of 73.3 F.\n"
     ]
    }
   ],
   "source": [
    "#Predictions for Average US temperature\n",
    "pred_2033 = slope * 2033 + intercept\n",
    "pred_2053 = slope * 2053 + intercept\n",
    "pred_2123 = slope * 2123 + intercept\n",
    "print(f\"In 2033, the United States is on track to have an average temperate of {round(pred_2033 ,1)} F.\")\n",
    "print(f\"In 2053, the United States is on track to have an average temperate of {round(pred_2053, 1)} F.\")\n",
    "print(f\"In 2123, the United States is on track to have an average temperate of {round(pred_2123, 1)} F.\")"
   ]
  }
 ],
 "metadata": {
  "kernelspec": {
   "display_name": "Python 3 (ipykernel)",
   "language": "python",
   "name": "python3"
  },
  "language_info": {
   "codemirror_mode": {
    "name": "ipython",
    "version": 3
   },
   "file_extension": ".py",
   "mimetype": "text/x-python",
   "name": "python",
   "nbconvert_exporter": "python",
   "pygments_lexer": "ipython3",
   "version": "3.9.13"
  }
 },
 "nbformat": 4,
 "nbformat_minor": 5
}
